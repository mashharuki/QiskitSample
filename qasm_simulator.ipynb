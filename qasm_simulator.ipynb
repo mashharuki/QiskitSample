{
 "cells": [
  {
   "cell_type": "code",
   "execution_count": 3,
   "metadata": {},
   "outputs": [
    {
     "data": {
      "image/png": "[encoded data removed]",
      "text/plain": [
       "<Figure size 327.252x204.68 with 1 Axes>"
      ]
     },
     "execution_count": 3,
     "metadata": {},
     "output_type": "execute_result"
    }
   ],
   "source": [
    "# 複数回量子を測定・サンプリングするソースコード\n",
    "from qiskit import QuantumCircuit\n",
    "from qiskit import Aer, execute\n",
    "\n",
    "# 量子ビットを用意する。\n",
    "qc = QuantumCircuit(2, 2)\n",
    "# 量子のもつれ状態を作成する。\n",
    "qc.h(0)\n",
    "qc.cx(0, 1)\n",
    "# 測定ゲートを追加する。\n",
    "qc.measure(0, 0)\n",
    "qc.measure(1, 1)\n",
    "# 量子ゲートを描く\n",
    "qc.draw('mpl')"
   ]
  },
  {
   "cell_type": "code",
   "execution_count": 4,
   "metadata": {},
   "outputs": [
    {
     "name": "stdout",
     "output_type": "stream",
     "text": [
      "{'11': 479, '00': 545}\n"
     ]
    }
   ],
   "source": [
    "# 状態ベクトルを生成\n",
    "backend = Aer.get_backend('qasm_simulator')\n",
    "# 測定回数を設定\n",
    "shots = 1024\n",
    "results = execute(qc, backend=backend, shots=1024).result()\n",
    "answer = results.get_counts()\n",
    "# 測定結果を出力する。\n",
    "print(answer)"
   ]
  },
  {
   "cell_type": "code",
   "execution_count": 8,
   "metadata": {},
   "outputs": [
    {
     "name": "stderr",
     "output_type": "stream",
     "text": [
      "ibmqfactory.load_account:WARNING:2021-06-26 17:08:22,273: Credentials are already in use. The existing account in the session will be replaced.\n"
     ]
    },
    {
     "name": "stdout",
     "output_type": "stream",
     "text": [
      "{'11': 479, '00': 545}\n"
     ]
    }
   ],
   "source": [
    "# 量子コンピュータを利用して実行する場合\n",
    "from qiskit import IBMQ\n",
    "# アカウント情報を読み込む\n",
    "IBMQ.load_account()\n",
    "\n",
    "provider = IBMQ.get_provider(group='open', project='main')\n",
    "# 設定を適用する\n",
    "backend = provider.get_backend('ibmq_athens')\n",
    "backend.configuration()\n",
    "# ジョブを実行する。\n",
    "job = execute(qc, backend=backend, shots=shots)\n",
    "job.result()\n",
    "# 結果を取得する。\n",
    "answer = results.get_counts()\n",
    "# 測定結果を出力する。\n",
    "print(answer)"
   ]
  },
  {
   "cell_type": "code",
   "execution_count": null,
   "metadata": {},
   "outputs": [],
   "source": []
  }
 ],
 "metadata": {
  "kernelspec": {
   "display_name": "Python 3",
   "language": "python",
   "name": "python3"
  },
  "language_info": {
   "codemirror_mode": {
    "name": "ipython",
    "version": 3
   },
   "file_extension": ".py",
   "mimetype": "text/x-python",
   "name": "python",
   "nbconvert_exporter": "python",
   "pygments_lexer": "ipython3",
   "version": "3.8.5"
  }
 },
 "nbformat": 4,
 "nbformat_minor": 4
}
