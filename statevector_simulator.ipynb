{
 "cells": [
  {
   "cell_type": "code",
   "execution_count": 1,
   "metadata": {},
   "outputs": [
    {
     "name": "stdout",
     "output_type": "stream",
     "text": [
      "[0.70710678+0.j 0.        +0.j 0.        +0.j 0.70710678+0.j]\n"
     ]
    }
   ],
   "source": [
    "# 理想的な量子回路における出力状態ベクトルを計算するソースコード\n",
    "from qiskit import QuantumCircuit\n",
    "from qiskit import Aer, execute\n",
    "\n",
    "# 量子ビットを用意する。\n",
    "qc = QuantumCircuit(2)\n",
    "# 量子のもつれ状態を作成する。\n",
    "qc.h(0)\n",
    "qc.cx(0, 1)\n",
    "# 状態ベクトルを生成\n",
    "backend = Aer.get_backend('statevector_simulator')\n",
    "results = execute(qc, backend=backend).result()\n",
    "state_vec = results.get_statevector(qc)\n",
    "# 状態ベクトルを表示する。\n",
    "print(state_vec)"
   ]
  },
  {
   "cell_type": "code",
   "execution_count": null,
   "metadata": {},
   "outputs": [],
   "source": []
  }
 ],
 "metadata": {
  "kernelspec": {
   "display_name": "Python 3",
   "language": "python",
   "name": "python3"
  },
  "language_info": {
   "codemirror_mode": {
    "name": "ipython",
    "version": 3
   },
   "file_extension": ".py",
   "mimetype": "text/x-python",
   "name": "python",
   "nbconvert_exporter": "python",
   "pygments_lexer": "ipython3",
   "version": "3.8.5"
  }
 },
 "nbformat": 4,
 "nbformat_minor": 4
}
